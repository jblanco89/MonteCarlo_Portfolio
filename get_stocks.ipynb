{
  "nbformat": 4,
  "nbformat_minor": 0,
  "metadata": {
    "colab": {
      "name": "get_stocks.ipynb",
      "provenance": [],
      "collapsed_sections": [],
      "authorship_tag": "ABX9TyPWD+sqxnlJI0uzjQ9miicl",
      "include_colab_link": true
    },
    "kernelspec": {
      "name": "python3",
      "display_name": "Python 3"
    },
    "language_info": {
      "name": "python"
    }
  },
  "cells": [
    {
      "cell_type": "markdown",
      "metadata": {
        "id": "view-in-github",
        "colab_type": "text"
      },
      "source": [
        "<a href=\"https://colab.research.google.com/github/jblanco89/MonteCarlo_Portfolio/blob/main/get_stocks.ipynb\" target=\"_parent\"><img src=\"https://colab.research.google.com/assets/colab-badge.svg\" alt=\"Open In Colab\"/></a>"
      ]
    },
    {
      "cell_type": "code",
      "metadata": {
        "colab": {
          "base_uri": "https://localhost:8080/"
        },
        "id": "0dVlRUzCj8mC",
        "outputId": "af25a5a2-f25c-4bb0-b994-a96c3750af65"
      },
      "source": [
        "!pip install pycoingecko"
      ],
      "execution_count": 1,
      "outputs": [
        {
          "output_type": "stream",
          "name": "stdout",
          "text": [
            "Requirement already satisfied: pycoingecko in /usr/local/lib/python3.7/dist-packages (2.2.0)\n",
            "Requirement already satisfied: requests in /usr/local/lib/python3.7/dist-packages (from pycoingecko) (2.23.0)\n",
            "Requirement already satisfied: urllib3!=1.25.0,!=1.25.1,<1.26,>=1.21.1 in /usr/local/lib/python3.7/dist-packages (from requests->pycoingecko) (1.24.3)\n",
            "Requirement already satisfied: chardet<4,>=3.0.2 in /usr/local/lib/python3.7/dist-packages (from requests->pycoingecko) (3.0.4)\n",
            "Requirement already satisfied: idna<3,>=2.5 in /usr/local/lib/python3.7/dist-packages (from requests->pycoingecko) (2.10)\n",
            "Requirement already satisfied: certifi>=2017.4.17 in /usr/local/lib/python3.7/dist-packages (from requests->pycoingecko) (2021.5.30)\n"
          ]
        }
      ]
    },
    {
      "cell_type": "code",
      "metadata": {
        "id": "7wsnH4HUkYTD"
      },
      "source": [
        "import pandas as pd\n",
        "from datetime import datetime\n",
        "from pycoingecko import  CoinGeckoAPI\n",
        "\n",
        "cg = CoinGeckoAPI()"
      ],
      "execution_count": 2,
      "outputs": []
    },
    {
      "cell_type": "code",
      "metadata": {
        "colab": {
          "base_uri": "https://localhost:8080/"
        },
        "id": "AzP95JBJkxVy",
        "outputId": "5e7394dd-0f23-461d-888c-c059861efc0a"
      },
      "source": [
        "coin_list = cg.get_coins_list()\n",
        "type(coin_list)"
      ],
      "execution_count": 3,
      "outputs": [
        {
          "output_type": "execute_result",
          "data": {
            "text/plain": [
              "list"
            ]
          },
          "metadata": {},
          "execution_count": 3
        }
      ]
    },
    {
      "cell_type": "code",
      "metadata": {
        "colab": {
          "base_uri": "https://localhost:8080/",
          "height": 204
        },
        "id": "UlkglNn9lU1i",
        "outputId": "7f597a99-b03b-40ca-e1b6-c38859f1abcd"
      },
      "source": [
        "coin_list_df = pd.DataFrame(coin_list)\n",
        "coin_list_df.head()"
      ],
      "execution_count": 4,
      "outputs": [
        {
          "output_type": "execute_result",
          "data": {
            "text/html": [
              "<div>\n",
              "<style scoped>\n",
              "    .dataframe tbody tr th:only-of-type {\n",
              "        vertical-align: middle;\n",
              "    }\n",
              "\n",
              "    .dataframe tbody tr th {\n",
              "        vertical-align: top;\n",
              "    }\n",
              "\n",
              "    .dataframe thead th {\n",
              "        text-align: right;\n",
              "    }\n",
              "</style>\n",
              "<table border=\"1\" class=\"dataframe\">\n",
              "  <thead>\n",
              "    <tr style=\"text-align: right;\">\n",
              "      <th></th>\n",
              "      <th>id</th>\n",
              "      <th>symbol</th>\n",
              "      <th>name</th>\n",
              "    </tr>\n",
              "  </thead>\n",
              "  <tbody>\n",
              "    <tr>\n",
              "      <th>0</th>\n",
              "      <td>01coin</td>\n",
              "      <td>zoc</td>\n",
              "      <td>01coin</td>\n",
              "    </tr>\n",
              "    <tr>\n",
              "      <th>1</th>\n",
              "      <td>0-5x-long-algorand-token</td>\n",
              "      <td>algohalf</td>\n",
              "      <td>0.5X Long Algorand Token</td>\n",
              "    </tr>\n",
              "    <tr>\n",
              "      <th>2</th>\n",
              "      <td>0-5x-long-altcoin-index-token</td>\n",
              "      <td>althalf</td>\n",
              "      <td>0.5X Long Altcoin Index Token</td>\n",
              "    </tr>\n",
              "    <tr>\n",
              "      <th>3</th>\n",
              "      <td>0-5x-long-balancer-token</td>\n",
              "      <td>balhalf</td>\n",
              "      <td>0.5X Long Balancer Token</td>\n",
              "    </tr>\n",
              "    <tr>\n",
              "      <th>4</th>\n",
              "      <td>0-5x-long-bitcoin-cash-token</td>\n",
              "      <td>bchhalf</td>\n",
              "      <td>0.5X Long Bitcoin Cash Token</td>\n",
              "    </tr>\n",
              "  </tbody>\n",
              "</table>\n",
              "</div>"
            ],
            "text/plain": [
              "                              id    symbol                           name\n",
              "0                         01coin       zoc                         01coin\n",
              "1       0-5x-long-algorand-token  algohalf       0.5X Long Algorand Token\n",
              "2  0-5x-long-altcoin-index-token   althalf  0.5X Long Altcoin Index Token\n",
              "3       0-5x-long-balancer-token   balhalf       0.5X Long Balancer Token\n",
              "4   0-5x-long-bitcoin-cash-token   bchhalf   0.5X Long Bitcoin Cash Token"
            ]
          },
          "metadata": {},
          "execution_count": 4
        }
      ]
    },
    {
      "cell_type": "code",
      "metadata": {
        "colab": {
          "base_uri": "https://localhost:8080/",
          "height": 35
        },
        "id": "MpdD9naLlmnl",
        "outputId": "c7a2fdc9-70e4-4184-dc10-00c6041df25f"
      },
      "source": [
        "stock_id = coin_list_df[coin_list_df.symbol.isin(['cake'])]\n",
        "stock_id.iloc[0,0]"
      ],
      "execution_count": 5,
      "outputs": [
        {
          "output_type": "execute_result",
          "data": {
            "application/vnd.google.colaboratory.intrinsic+json": {
              "type": "string"
            },
            "text/plain": [
              "'pancakeswap-token'"
            ]
          },
          "metadata": {},
          "execution_count": 5
        }
      ]
    },
    {
      "cell_type": "code",
      "metadata": {
        "id": "iyQ1mBpsqJAp"
      },
      "source": [
        "def get_id(symbs):\n",
        "  stock_id = []\n",
        "  for s in symbs:\n",
        "    stock_id.append(coin_list_df[coin_list_df.symbol.isin([s])].iloc[0,0])\n",
        "  return stock_id\n",
        "\n",
        "def timetoUnix(start_date, end_date):\n",
        "  date_obj_1 = datetime.strptime(start_date, '%m/%d/%y')\n",
        "  date_obj_2 = datetime.strptime(end_date, '%m/%d/%y')\n",
        "\n",
        "  range_1 = (date_obj_1 - datetime(1970,1,1)).total_seconds()\n",
        "  range_2 = (date_obj_2 - datetime(1970,1,1)).total_seconds()\n",
        "  return range_1, range_2\n",
        "\n",
        "\n"
      ],
      "execution_count": 6,
      "outputs": []
    },
    {
      "cell_type": "code",
      "metadata": {
        "id": "W_IgsIbQFx9r"
      },
      "source": [
        "symbs = ['btc', 'ltc', 'pvu', 'cake', 'sol', 'ada', 'crv', 'ray', 'AVAX']\n",
        "id_data = get_id(symbs=symbs)\n"
      ],
      "execution_count": 7,
      "outputs": []
    },
    {
      "cell_type": "code",
      "metadata": {
        "id": "jA0SfgMTOfax"
      },
      "source": [
        "date_1 = '07/27/21'\n",
        "date_2 = '09/25/21'\n",
        "\n",
        "t= timetoUnix(date_1,date_2)\n"
      ],
      "execution_count": 8,
      "outputs": []
    },
    {
      "cell_type": "code",
      "metadata": {
        "id": "YCcspeQr0ufu"
      },
      "source": [
        "data = []\n",
        "for id in id_data:\n",
        "  data.append(cg.get_coin_market_chart_range_by_id(id, 'usd', t[0], t[1]))\n",
        "\n"
      ],
      "execution_count": 9,
      "outputs": []
    },
    {
      "cell_type": "code",
      "metadata": {
        "colab": {
          "base_uri": "https://localhost:8080/"
        },
        "id": "ZujobvkfaxG1",
        "outputId": "8a6bce41-34aa-4133-891d-80cf12f9fdc3"
      },
      "source": [
        "len(id_data)"
      ],
      "execution_count": 10,
      "outputs": [
        {
          "output_type": "execute_result",
          "data": {
            "text/plain": [
              "9"
            ]
          },
          "metadata": {},
          "execution_count": 10
        }
      ]
    },
    {
      "cell_type": "code",
      "metadata": {
        "id": "XU5wnnZuak2l"
      },
      "source": [
        "pr={}\n",
        "for i in range(0,len(id_data)):\n",
        "  pr[i] = sum(data[i]['prices'], [])\n",
        "\n",
        "  "
      ],
      "execution_count": 11,
      "outputs": []
    },
    {
      "cell_type": "code",
      "metadata": {
        "id": "ltPPDvHzb1yx"
      },
      "source": [
        "prices = []\n",
        "dates = []\n",
        "for coin in range(0,len(id_data)):\n",
        "  for price in pr[coin][1::2]:\n",
        "    prices.append(price)\n",
        "  \n",
        "for date in pr[0][::2]:\n",
        "  date = (int(date)/1000)\n",
        "  e = (datetime.utcfromtimestamp(date).strftime('%m/%d/%y'))\n",
        "  dates.append(e)\n"
      ],
      "execution_count": 12,
      "outputs": []
    },
    {
      "cell_type": "code",
      "metadata": {
        "id": "HxFCXV9dg2Rk"
      },
      "source": [
        "particion = int((t[1] - t[0]) / 3600)"
      ],
      "execution_count": 13,
      "outputs": []
    },
    {
      "cell_type": "code",
      "metadata": {
        "colab": {
          "base_uri": "https://localhost:8080/"
        },
        "id": "ORVbp3YBi7R0",
        "outputId": "f60939c2-da1e-480c-9dcb-a219632e6431"
      },
      "source": [
        "particion"
      ],
      "execution_count": 14,
      "outputs": [
        {
          "output_type": "execute_result",
          "data": {
            "text/plain": [
              "1440"
            ]
          },
          "metadata": {},
          "execution_count": 14
        }
      ]
    },
    {
      "cell_type": "code",
      "metadata": {
        "colab": {
          "base_uri": "https://localhost:8080/"
        },
        "id": "xsHzqlQm1PZa",
        "outputId": "cd3ab7bd-783e-4478-8903-d8ffdb772c00"
      },
      "source": [
        "len(prices)"
      ],
      "execution_count": 15,
      "outputs": [
        {
          "output_type": "execute_result",
          "data": {
            "text/plain": [
              "12827"
            ]
          },
          "metadata": {},
          "execution_count": 15
        }
      ]
    },
    {
      "cell_type": "code",
      "metadata": {
        "id": "HpWCoAPQigB_"
      },
      "source": [
        "def slice_per(source, step):\n",
        "    return [source[i::step] for i in range(step)]"
      ],
      "execution_count": 16,
      "outputs": []
    },
    {
      "cell_type": "code",
      "metadata": {
        "id": "pxPCuFOaiizr"
      },
      "source": [
        "data_pr = slice_per(prices,particion)"
      ],
      "execution_count": 17,
      "outputs": []
    },
    {
      "cell_type": "code",
      "metadata": {
        "colab": {
          "base_uri": "https://localhost:8080/",
          "height": 419
        },
        "id": "g0YygtjJjWab",
        "outputId": "cb375b07-3ed2-44fd-cab4-99da01b04fdd"
      },
      "source": [
        "pr_df = pd.DataFrame(data_pr, columns=symbs)\n",
        "pr_df"
      ],
      "execution_count": 18,
      "outputs": [
        {
          "output_type": "execute_result",
          "data": {
            "text/html": [
              "<div>\n",
              "<style scoped>\n",
              "    .dataframe tbody tr th:only-of-type {\n",
              "        vertical-align: middle;\n",
              "    }\n",
              "\n",
              "    .dataframe tbody tr th {\n",
              "        vertical-align: top;\n",
              "    }\n",
              "\n",
              "    .dataframe thead th {\n",
              "        text-align: right;\n",
              "    }\n",
              "</style>\n",
              "<table border=\"1\" class=\"dataframe\">\n",
              "  <thead>\n",
              "    <tr style=\"text-align: right;\">\n",
              "      <th></th>\n",
              "      <th>btc</th>\n",
              "      <th>ltc</th>\n",
              "      <th>pvu</th>\n",
              "      <th>cake</th>\n",
              "      <th>sol</th>\n",
              "      <th>ada</th>\n",
              "      <th>crv</th>\n",
              "      <th>ray</th>\n",
              "      <th>AVAX</th>\n",
              "    </tr>\n",
              "  </thead>\n",
              "  <tbody>\n",
              "    <tr>\n",
              "      <th>0</th>\n",
              "      <td>37226.653324</td>\n",
              "      <td>43118.742862</td>\n",
              "      <td>149.015249</td>\n",
              "      <td>15.942648</td>\n",
              "      <td>34.543598</td>\n",
              "      <td>1.348697</td>\n",
              "      <td>1.723675</td>\n",
              "      <td>3.388914</td>\n",
              "      <td>13.573288</td>\n",
              "    </tr>\n",
              "    <tr>\n",
              "      <th>1</th>\n",
              "      <td>37385.813653</td>\n",
              "      <td>43040.241370</td>\n",
              "      <td>151.203520</td>\n",
              "      <td>15.798125</td>\n",
              "      <td>34.172512</td>\n",
              "      <td>1.349047</td>\n",
              "      <td>1.731141</td>\n",
              "      <td>3.397917</td>\n",
              "      <td>13.599013</td>\n",
              "    </tr>\n",
              "    <tr>\n",
              "      <th>2</th>\n",
              "      <td>36986.680690</td>\n",
              "      <td>43185.540089</td>\n",
              "      <td>152.972905</td>\n",
              "      <td>15.760128</td>\n",
              "      <td>33.593977</td>\n",
              "      <td>1.320429</td>\n",
              "      <td>1.740666</td>\n",
              "      <td>3.410482</td>\n",
              "      <td>13.256720</td>\n",
              "    </tr>\n",
              "    <tr>\n",
              "      <th>3</th>\n",
              "      <td>36547.977268</td>\n",
              "      <td>130.957131</td>\n",
              "      <td>152.721474</td>\n",
              "      <td>15.881187</td>\n",
              "      <td>34.023489</td>\n",
              "      <td>1.318082</td>\n",
              "      <td>1.727461</td>\n",
              "      <td>3.414522</td>\n",
              "      <td>13.212138</td>\n",
              "    </tr>\n",
              "    <tr>\n",
              "      <th>4</th>\n",
              "      <td>36890.358223</td>\n",
              "      <td>130.633148</td>\n",
              "      <td>13.800171</td>\n",
              "      <td>15.826205</td>\n",
              "      <td>34.785342</td>\n",
              "      <td>1.307807</td>\n",
              "      <td>1.689468</td>\n",
              "      <td>3.412654</td>\n",
              "      <td>13.281197</td>\n",
              "    </tr>\n",
              "    <tr>\n",
              "      <th>...</th>\n",
              "      <td>...</td>\n",
              "      <td>...</td>\n",
              "      <td>...</td>\n",
              "      <td>...</td>\n",
              "      <td>...</td>\n",
              "      <td>...</td>\n",
              "      <td>...</td>\n",
              "      <td>...</td>\n",
              "      <td>...</td>\n",
              "    </tr>\n",
              "    <tr>\n",
              "      <th>1435</th>\n",
              "      <td>41818.629528</td>\n",
              "      <td>148.659096</td>\n",
              "      <td>16.348489</td>\n",
              "      <td>35.072074</td>\n",
              "      <td>1.357796</td>\n",
              "      <td>1.720112</td>\n",
              "      <td>3.449457</td>\n",
              "      <td>13.865358</td>\n",
              "      <td>NaN</td>\n",
              "    </tr>\n",
              "    <tr>\n",
              "      <th>1436</th>\n",
              "      <td>42339.870940</td>\n",
              "      <td>146.969852</td>\n",
              "      <td>16.421392</td>\n",
              "      <td>35.319141</td>\n",
              "      <td>1.343468</td>\n",
              "      <td>1.723623</td>\n",
              "      <td>3.468470</td>\n",
              "      <td>13.650973</td>\n",
              "      <td>NaN</td>\n",
              "    </tr>\n",
              "    <tr>\n",
              "      <th>1437</th>\n",
              "      <td>42085.973048</td>\n",
              "      <td>148.285465</td>\n",
              "      <td>16.541694</td>\n",
              "      <td>35.535645</td>\n",
              "      <td>1.336191</td>\n",
              "      <td>1.719327</td>\n",
              "      <td>3.454924</td>\n",
              "      <td>13.608602</td>\n",
              "      <td>NaN</td>\n",
              "    </tr>\n",
              "    <tr>\n",
              "      <th>1438</th>\n",
              "      <td>42245.517963</td>\n",
              "      <td>148.018189</td>\n",
              "      <td>16.526784</td>\n",
              "      <td>35.733002</td>\n",
              "      <td>1.343222</td>\n",
              "      <td>1.702414</td>\n",
              "      <td>3.431921</td>\n",
              "      <td>13.678442</td>\n",
              "      <td>NaN</td>\n",
              "    </tr>\n",
              "    <tr>\n",
              "      <th>1439</th>\n",
              "      <td>42399.216146</td>\n",
              "      <td>149.419391</td>\n",
              "      <td>16.213493</td>\n",
              "      <td>35.130179</td>\n",
              "      <td>1.353722</td>\n",
              "      <td>1.705091</td>\n",
              "      <td>3.435573</td>\n",
              "      <td>13.566011</td>\n",
              "      <td>NaN</td>\n",
              "    </tr>\n",
              "  </tbody>\n",
              "</table>\n",
              "<p>1440 rows × 9 columns</p>\n",
              "</div>"
            ],
            "text/plain": [
              "               btc           ltc         pvu  ...       crv        ray       AVAX\n",
              "0     37226.653324  43118.742862  149.015249  ...  1.723675   3.388914  13.573288\n",
              "1     37385.813653  43040.241370  151.203520  ...  1.731141   3.397917  13.599013\n",
              "2     36986.680690  43185.540089  152.972905  ...  1.740666   3.410482  13.256720\n",
              "3     36547.977268    130.957131  152.721474  ...  1.727461   3.414522  13.212138\n",
              "4     36890.358223    130.633148   13.800171  ...  1.689468   3.412654  13.281197\n",
              "...            ...           ...         ...  ...       ...        ...        ...\n",
              "1435  41818.629528    148.659096   16.348489  ...  3.449457  13.865358        NaN\n",
              "1436  42339.870940    146.969852   16.421392  ...  3.468470  13.650973        NaN\n",
              "1437  42085.973048    148.285465   16.541694  ...  3.454924  13.608602        NaN\n",
              "1438  42245.517963    148.018189   16.526784  ...  3.431921  13.678442        NaN\n",
              "1439  42399.216146    149.419391   16.213493  ...  3.435573  13.566011        NaN\n",
              "\n",
              "[1440 rows x 9 columns]"
            ]
          },
          "metadata": {},
          "execution_count": 18
        }
      ]
    },
    {
      "cell_type": "code",
      "metadata": {
        "colab": {
          "base_uri": "https://localhost:8080/"
        },
        "id": "gcxPcuyvk1wG",
        "outputId": "0a86bb73-8116-42a8-cee3-4b345b1c5f1b"
      },
      "source": [
        "pr_df.shape"
      ],
      "execution_count": 19,
      "outputs": [
        {
          "output_type": "execute_result",
          "data": {
            "text/plain": [
              "(1440, 9)"
            ]
          },
          "metadata": {},
          "execution_count": 19
        }
      ]
    },
    {
      "cell_type": "code",
      "metadata": {
        "colab": {
          "base_uri": "https://localhost:8080/",
          "height": 204
        },
        "id": "T18KpBsqld7v",
        "outputId": "5e7bc5a5-d9db-4175-ab95-b904b539b7db"
      },
      "source": [
        "dates_df = pd.DataFrame(dates, columns=['Date'])\n",
        "dates_df.tail()"
      ],
      "execution_count": 20,
      "outputs": [
        {
          "output_type": "execute_result",
          "data": {
            "text/html": [
              "<div>\n",
              "<style scoped>\n",
              "    .dataframe tbody tr th:only-of-type {\n",
              "        vertical-align: middle;\n",
              "    }\n",
              "\n",
              "    .dataframe tbody tr th {\n",
              "        vertical-align: top;\n",
              "    }\n",
              "\n",
              "    .dataframe thead th {\n",
              "        text-align: right;\n",
              "    }\n",
              "</style>\n",
              "<table border=\"1\" class=\"dataframe\">\n",
              "  <thead>\n",
              "    <tr style=\"text-align: right;\">\n",
              "      <th></th>\n",
              "      <th>Date</th>\n",
              "    </tr>\n",
              "  </thead>\n",
              "  <tbody>\n",
              "    <tr>\n",
              "      <th>1438</th>\n",
              "      <td>09/24/21</td>\n",
              "    </tr>\n",
              "    <tr>\n",
              "      <th>1439</th>\n",
              "      <td>09/24/21</td>\n",
              "    </tr>\n",
              "    <tr>\n",
              "      <th>1440</th>\n",
              "      <td>09/24/21</td>\n",
              "    </tr>\n",
              "    <tr>\n",
              "      <th>1441</th>\n",
              "      <td>09/24/21</td>\n",
              "    </tr>\n",
              "    <tr>\n",
              "      <th>1442</th>\n",
              "      <td>09/24/21</td>\n",
              "    </tr>\n",
              "  </tbody>\n",
              "</table>\n",
              "</div>"
            ],
            "text/plain": [
              "          Date\n",
              "1438  09/24/21\n",
              "1439  09/24/21\n",
              "1440  09/24/21\n",
              "1441  09/24/21\n",
              "1442  09/24/21"
            ]
          },
          "metadata": {},
          "execution_count": 20
        }
      ]
    },
    {
      "cell_type": "code",
      "metadata": {
        "colab": {
          "base_uri": "https://localhost:8080/"
        },
        "id": "1K3ynIT5lQcz",
        "outputId": "acaf25ba-48ae-4e4b-82e3-47a499b89391"
      },
      "source": [
        "pr_df.shape\n"
      ],
      "execution_count": 21,
      "outputs": [
        {
          "output_type": "execute_result",
          "data": {
            "text/plain": [
              "(1440, 9)"
            ]
          },
          "metadata": {},
          "execution_count": 21
        }
      ]
    },
    {
      "cell_type": "code",
      "metadata": {
        "colab": {
          "base_uri": "https://localhost:8080/"
        },
        "id": "UDXHpkYuorp6",
        "outputId": "d0d1d778-c83c-47cb-cd66-e087f2738ac5"
      },
      "source": [
        "dates_df.shape"
      ],
      "execution_count": 22,
      "outputs": [
        {
          "output_type": "execute_result",
          "data": {
            "text/plain": [
              "(1443, 1)"
            ]
          },
          "metadata": {},
          "execution_count": 22
        }
      ]
    },
    {
      "cell_type": "code",
      "metadata": {
        "id": "at8fo4tTqKQf"
      },
      "source": [
        "pr_df = pr_df.reset_index(drop=True)\n",
        "dates_df = dates_df.reset_index(drop=True)"
      ],
      "execution_count": 23,
      "outputs": []
    },
    {
      "cell_type": "code",
      "metadata": {
        "colab": {
          "base_uri": "https://localhost:8080/",
          "height": 204
        },
        "id": "6e6rB19co4qi",
        "outputId": "d26aa655-2fda-4a48-b071-f0a463578960"
      },
      "source": [
        "df_final = pd.concat([dates_df, pr_df], axis=1)\n",
        "df_final.tail()"
      ],
      "execution_count": 24,
      "outputs": [
        {
          "output_type": "execute_result",
          "data": {
            "text/html": [
              "<div>\n",
              "<style scoped>\n",
              "    .dataframe tbody tr th:only-of-type {\n",
              "        vertical-align: middle;\n",
              "    }\n",
              "\n",
              "    .dataframe tbody tr th {\n",
              "        vertical-align: top;\n",
              "    }\n",
              "\n",
              "    .dataframe thead th {\n",
              "        text-align: right;\n",
              "    }\n",
              "</style>\n",
              "<table border=\"1\" class=\"dataframe\">\n",
              "  <thead>\n",
              "    <tr style=\"text-align: right;\">\n",
              "      <th></th>\n",
              "      <th>Date</th>\n",
              "      <th>btc</th>\n",
              "      <th>ltc</th>\n",
              "      <th>pvu</th>\n",
              "      <th>cake</th>\n",
              "      <th>sol</th>\n",
              "      <th>ada</th>\n",
              "      <th>crv</th>\n",
              "      <th>ray</th>\n",
              "      <th>AVAX</th>\n",
              "    </tr>\n",
              "  </thead>\n",
              "  <tbody>\n",
              "    <tr>\n",
              "      <th>1438</th>\n",
              "      <td>09/24/21</td>\n",
              "      <td>42245.517963</td>\n",
              "      <td>148.018189</td>\n",
              "      <td>16.526784</td>\n",
              "      <td>35.733002</td>\n",
              "      <td>1.343222</td>\n",
              "      <td>1.702414</td>\n",
              "      <td>3.431921</td>\n",
              "      <td>13.678442</td>\n",
              "      <td>NaN</td>\n",
              "    </tr>\n",
              "    <tr>\n",
              "      <th>1439</th>\n",
              "      <td>09/24/21</td>\n",
              "      <td>42399.216146</td>\n",
              "      <td>149.419391</td>\n",
              "      <td>16.213493</td>\n",
              "      <td>35.130179</td>\n",
              "      <td>1.353722</td>\n",
              "      <td>1.705091</td>\n",
              "      <td>3.435573</td>\n",
              "      <td>13.566011</td>\n",
              "      <td>NaN</td>\n",
              "    </tr>\n",
              "    <tr>\n",
              "      <th>1440</th>\n",
              "      <td>09/24/21</td>\n",
              "      <td>NaN</td>\n",
              "      <td>NaN</td>\n",
              "      <td>NaN</td>\n",
              "      <td>NaN</td>\n",
              "      <td>NaN</td>\n",
              "      <td>NaN</td>\n",
              "      <td>NaN</td>\n",
              "      <td>NaN</td>\n",
              "      <td>NaN</td>\n",
              "    </tr>\n",
              "    <tr>\n",
              "      <th>1441</th>\n",
              "      <td>09/24/21</td>\n",
              "      <td>NaN</td>\n",
              "      <td>NaN</td>\n",
              "      <td>NaN</td>\n",
              "      <td>NaN</td>\n",
              "      <td>NaN</td>\n",
              "      <td>NaN</td>\n",
              "      <td>NaN</td>\n",
              "      <td>NaN</td>\n",
              "      <td>NaN</td>\n",
              "    </tr>\n",
              "    <tr>\n",
              "      <th>1442</th>\n",
              "      <td>09/24/21</td>\n",
              "      <td>NaN</td>\n",
              "      <td>NaN</td>\n",
              "      <td>NaN</td>\n",
              "      <td>NaN</td>\n",
              "      <td>NaN</td>\n",
              "      <td>NaN</td>\n",
              "      <td>NaN</td>\n",
              "      <td>NaN</td>\n",
              "      <td>NaN</td>\n",
              "    </tr>\n",
              "  </tbody>\n",
              "</table>\n",
              "</div>"
            ],
            "text/plain": [
              "          Date           btc         ltc  ...       crv        ray  AVAX\n",
              "1438  09/24/21  42245.517963  148.018189  ...  3.431921  13.678442   NaN\n",
              "1439  09/24/21  42399.216146  149.419391  ...  3.435573  13.566011   NaN\n",
              "1440  09/24/21           NaN         NaN  ...       NaN        NaN   NaN\n",
              "1441  09/24/21           NaN         NaN  ...       NaN        NaN   NaN\n",
              "1442  09/24/21           NaN         NaN  ...       NaN        NaN   NaN\n",
              "\n",
              "[5 rows x 10 columns]"
            ]
          },
          "metadata": {},
          "execution_count": 24
        }
      ]
    },
    {
      "cell_type": "code",
      "metadata": {
        "id": "Kb1cH6nYtv5a"
      },
      "source": [
        "import matplotlib.pyplot as plt\n"
      ],
      "execution_count": 25,
      "outputs": []
    },
    {
      "cell_type": "code",
      "metadata": {
        "colab": {
          "base_uri": "https://localhost:8080/",
          "height": 610
        },
        "id": "3Q0cwpTJt2aG",
        "outputId": "4791ca42-fe85-4af0-dacb-873c873ea1ed"
      },
      "source": [
        "ax = df_final.plot(x='Date', y=['sol', 'cake', 'AVAX'], figsize=(15,10))\n",
        "ax2 = df_final.plot(x='Date', y='btc',secondary_y=True, ax=ax)\n",
        "ax.grid(False, color='w', linestyle='-', linewidth=1)\n",
        "ax.set_facecolor('0')\n",
        "ax.set_ylabel('Price')\n",
        "ax2.set_ylabel('btc')\n",
        "ax.tick_params(labelsize = 14)\n",
        "ax2.tick_params(labelsize = 14)\n",
        "plt.show()"
      ],
      "execution_count": 26,
      "outputs": [
        {
          "output_type": "display_data",
          "data": {
            "image/png": "[encoded data removed]",
            "text/plain": [
              "<Figure size 1080x720 with 2 Axes>"
            ]
          },
          "metadata": {
            "needs_background": "light"
          }
        }
      ]
    }
  ]
}